{
 "cells": [
  {
   "cell_type": "markdown",
   "id": "314995cb",
   "metadata": {},
   "source": [
    "## Tuples\n",
    "Tuples is similar to List except that that the objects in tuple are immutable which means we cannot change the elements of a tuple once assigned.\n",
    "\n",
    "Tuples are enclosed with in parenthesis ()\n",
    "\n",
    "Tuples are orderd , indexed, slicing.\n",
    "\n",
    "Tuples can store duplicate values.\n",
    "\n",
    "When we do not want to change the data over time , tuple is a preferred data type.\n",
    "\n",
    "Iterating over the elements of a tuple is faster compared to list"
   ]
  },
  {
   "cell_type": "code",
   "execution_count": 1,
   "id": "94546bb4",
   "metadata": {},
   "outputs": [],
   "source": [
    "tup1=() #Empty tuple"
   ]
  },
  {
   "cell_type": "code",
   "execution_count": 2,
   "id": "915645a0",
   "metadata": {},
   "outputs": [
    {
     "data": {
      "text/plain": [
       "tuple"
      ]
     },
     "execution_count": 2,
     "metadata": {},
     "output_type": "execute_result"
    }
   ],
   "source": [
    "type(tup1)"
   ]
  },
  {
   "cell_type": "code",
   "execution_count": 3,
   "id": "118fb02e",
   "metadata": {},
   "outputs": [],
   "source": [
    "tup2 = (10,30,60)"
   ]
  },
  {
   "cell_type": "code",
   "execution_count": 4,
   "id": "070997a7",
   "metadata": {},
   "outputs": [
    {
     "data": {
      "text/plain": [
       "(10, 30, 60)"
      ]
     },
     "execution_count": 4,
     "metadata": {},
     "output_type": "execute_result"
    }
   ],
   "source": [
    "tup2"
   ]
  },
  {
   "cell_type": "code",
   "execution_count": 6,
   "id": "3a727cea",
   "metadata": {},
   "outputs": [
    {
     "name": "stdout",
     "output_type": "stream",
     "text": [
      "('one', 'datascience', 20, 30, 4.6, True)\n"
     ]
    }
   ],
   "source": [
    "tup3 = ('one', 'datascience',20,30,4.6,True)\n",
    "print(tup3)"
   ]
  },
  {
   "cell_type": "code",
   "execution_count": 7,
   "id": "442c47cb",
   "metadata": {},
   "outputs": [
    {
     "ename": "TypeError",
     "evalue": "'tuple' object does not support item assignment",
     "output_type": "error",
     "traceback": [
      "\u001b[1;31m---------------------------------------------------------------------------\u001b[0m",
      "\u001b[1;31mTypeError\u001b[0m                                 Traceback (most recent call last)",
      "Cell \u001b[1;32mIn[7], line 1\u001b[0m\n\u001b[1;32m----> 1\u001b[0m tup3[\u001b[38;5;241m1\u001b[39m] \u001b[38;5;241m=\u001b[39m \u001b[38;5;124m'\u001b[39m\u001b[38;5;124mmachinelearning\u001b[39m\u001b[38;5;124m'\u001b[39m\n",
      "\u001b[1;31mTypeError\u001b[0m: 'tuple' object does not support item assignment"
     ]
    }
   ],
   "source": [
    "tup3[1] = 'machinelearning'"
   ]
  },
  {
   "cell_type": "code",
   "execution_count": 8,
   "id": "e947564c",
   "metadata": {},
   "outputs": [
    {
     "data": {
      "text/plain": [
       "('ml', 'nlp', ['java', 'python', 'java-script', 1], True)"
      ]
     },
     "execution_count": 8,
     "metadata": {},
     "output_type": "execute_result"
    }
   ],
   "source": [
    "\n",
    "tup4 = ('ml','nlp',['java','python','java-script',1],True)\n",
    "tup4"
   ]
  },
  {
   "cell_type": "code",
   "execution_count": 9,
   "id": "91273cf1",
   "metadata": {},
   "outputs": [
    {
     "data": {
      "text/plain": [
       "4"
      ]
     },
     "execution_count": 9,
     "metadata": {},
     "output_type": "execute_result"
    }
   ],
   "source": [
    "len(tup4)"
   ]
  },
  {
   "cell_type": "code",
   "execution_count": 10,
   "id": "dc2683db",
   "metadata": {},
   "outputs": [
    {
     "data": {
      "text/plain": [
       "'ml'"
      ]
     },
     "execution_count": 10,
     "metadata": {},
     "output_type": "execute_result"
    }
   ],
   "source": [
    "\n",
    "#indexing \n",
    "tup4[0]"
   ]
  },
  {
   "cell_type": "code",
   "execution_count": 11,
   "id": "5f74ad2f",
   "metadata": {},
   "outputs": [
    {
     "data": {
      "text/plain": [
       "True"
      ]
     },
     "execution_count": 11,
     "metadata": {},
     "output_type": "execute_result"
    }
   ],
   "source": [
    "\n",
    "tup4[-1]"
   ]
  },
  {
   "cell_type": "code",
   "execution_count": 12,
   "id": "fac8b44e",
   "metadata": {},
   "outputs": [
    {
     "data": {
      "text/plain": [
       "'m'"
      ]
     },
     "execution_count": 12,
     "metadata": {},
     "output_type": "execute_result"
    }
   ],
   "source": [
    "tup4[0][0]  #Nested Indexing - Access the first character of the first tuple element"
   ]
  },
  {
   "cell_type": "code",
   "execution_count": 13,
   "id": "82999fcf",
   "metadata": {},
   "outputs": [
    {
     "data": {
      "text/plain": [
       "('one', 'datascience', 20, 30, 4.6, True)"
      ]
     },
     "execution_count": 13,
     "metadata": {},
     "output_type": "execute_result"
    }
   ],
   "source": [
    "#SLICING \n",
    "tup3"
   ]
  },
  {
   "cell_type": "code",
   "execution_count": 14,
   "id": "00181a0f",
   "metadata": {},
   "outputs": [
    {
     "data": {
      "text/plain": [
       "('datascience', 20, 30)"
      ]
     },
     "execution_count": 14,
     "metadata": {},
     "output_type": "execute_result"
    }
   ],
   "source": [
    "tup3[1:4]"
   ]
  },
  {
   "cell_type": "code",
   "execution_count": 15,
   "id": "88374dc3",
   "metadata": {},
   "outputs": [
    {
     "data": {
      "text/plain": [
       "('one', 'datascience')"
      ]
     },
     "execution_count": 15,
     "metadata": {},
     "output_type": "execute_result"
    }
   ],
   "source": [
    "tup3[:2]"
   ]
  },
  {
   "cell_type": "code",
   "execution_count": 16,
   "id": "2bd0fe47",
   "metadata": {},
   "outputs": [
    {
     "data": {
      "text/plain": [
       "(10, 30, 60, 10, 30, 60, 10, 30, 60)"
      ]
     },
     "execution_count": 16,
     "metadata": {},
     "output_type": "execute_result"
    }
   ],
   "source": [
    "\n",
    "tup2*3"
   ]
  },
  {
   "cell_type": "code",
   "execution_count": 17,
   "id": "b6ee3f39",
   "metadata": {},
   "outputs": [
    {
     "data": {
      "text/plain": [
       "(10, 10, 20, 67, 89)"
      ]
     },
     "execution_count": 17,
     "metadata": {},
     "output_type": "execute_result"
    }
   ],
   "source": [
    "tup7 = (10,10,20,67,89)\n",
    "tup7"
   ]
  },
  {
   "cell_type": "code",
   "execution_count": 18,
   "id": "9d791178",
   "metadata": {},
   "outputs": [
    {
     "ename": "TypeError",
     "evalue": "'tuple' object doesn't support item deletion",
     "output_type": "error",
     "traceback": [
      "\u001b[1;31m---------------------------------------------------------------------------\u001b[0m",
      "\u001b[1;31mTypeError\u001b[0m                                 Traceback (most recent call last)",
      "Cell \u001b[1;32mIn[18], line 1\u001b[0m\n\u001b[1;32m----> 1\u001b[0m \u001b[38;5;28;01mdel\u001b[39;00m tup7[\u001b[38;5;241m3\u001b[39m]\n",
      "\u001b[1;31mTypeError\u001b[0m: 'tuple' object doesn't support item deletion"
     ]
    }
   ],
   "source": [
    "\n",
    "del tup7[3]"
   ]
  },
  {
   "cell_type": "code",
   "execution_count": 19,
   "id": "8f5b17b4",
   "metadata": {},
   "outputs": [
    {
     "data": {
      "text/plain": [
       "2"
      ]
     },
     "execution_count": 19,
     "metadata": {},
     "output_type": "execute_result"
    }
   ],
   "source": [
    "tup7.count(10)"
   ]
  },
  {
   "cell_type": "code",
   "execution_count": 20,
   "id": "59390bdb",
   "metadata": {},
   "outputs": [
    {
     "data": {
      "text/plain": [
       "0"
      ]
     },
     "execution_count": 20,
     "metadata": {},
     "output_type": "execute_result"
    }
   ],
   "source": [
    "tup7.index(10)"
   ]
  },
  {
   "cell_type": "code",
   "execution_count": 21,
   "id": "754d1bdc",
   "metadata": {},
   "outputs": [
    {
     "data": {
      "text/plain": [
       "4"
      ]
     },
     "execution_count": 21,
     "metadata": {},
     "output_type": "execute_result"
    }
   ],
   "source": [
    "\n",
    "tup7.index(89)"
   ]
  },
  {
   "cell_type": "code",
   "execution_count": 28,
   "id": "6fa69cfb",
   "metadata": {},
   "outputs": [],
   "source": [
    "\n",
    "tup_new = (200,78,98,9,67,13)"
   ]
  },
  {
   "cell_type": "code",
   "execution_count": 29,
   "id": "bfabd978",
   "metadata": {},
   "outputs": [],
   "source": [
    "sorted_tuple = sorted(tup_new)"
   ]
  },
  {
   "cell_type": "code",
   "execution_count": 30,
   "id": "be73e1bf",
   "metadata": {},
   "outputs": [
    {
     "name": "stdout",
     "output_type": "stream",
     "text": [
      "<class 'list'>\n"
     ]
    },
    {
     "data": {
      "text/plain": [
       "[9, 13, 67, 78, 98, 200]"
      ]
     },
     "execution_count": 30,
     "metadata": {},
     "output_type": "execute_result"
    }
   ],
   "source": [
    "print(type(sorted_tuple)) #Return a new list containing all items from the iterable in ascending order.\n",
    "sorted_tuple"
   ]
  },
  {
   "cell_type": "code",
   "execution_count": 31,
   "id": "4660586a",
   "metadata": {},
   "outputs": [],
   "source": [
    "sorted_tuple1 = sorted(tup_new,reverse=True)"
   ]
  },
  {
   "cell_type": "code",
   "execution_count": 32,
   "id": "de32e3b3",
   "metadata": {},
   "outputs": [
    {
     "data": {
      "text/plain": [
       "[200, 98, 78, 67, 13, 9]"
      ]
     },
     "execution_count": 32,
     "metadata": {},
     "output_type": "execute_result"
    }
   ],
   "source": [
    "sorted_tuple1"
   ]
  },
  {
   "cell_type": "code",
   "execution_count": 34,
   "id": "fd8f95a0",
   "metadata": {},
   "outputs": [
    {
     "data": {
      "text/plain": [
       "200"
      ]
     },
     "execution_count": 34,
     "metadata": {},
     "output_type": "execute_result"
    }
   ],
   "source": [
    "\n",
    "highest_value = sorted_tuple1[0]\n",
    "highest_value"
   ]
  },
  {
   "cell_type": "code",
   "execution_count": 35,
   "id": "e88a9ed7",
   "metadata": {},
   "outputs": [
    {
     "data": {
      "text/plain": [
       "9"
      ]
     },
     "execution_count": 35,
     "metadata": {},
     "output_type": "execute_result"
    }
   ],
   "source": [
    "lowest_value = sorted_tuple1[-1]\n",
    "lowest_value"
   ]
  },
  {
   "cell_type": "code",
   "execution_count": 36,
   "id": "cac60f66",
   "metadata": {},
   "outputs": [],
   "source": [
    "tup_new=tuple(sorted_tuple1)"
   ]
  },
  {
   "cell_type": "code",
   "execution_count": 37,
   "id": "cd23619b",
   "metadata": {},
   "outputs": [
    {
     "data": {
      "text/plain": [
       "(200, 98, 78, 67, 13, 9)"
      ]
     },
     "execution_count": 37,
     "metadata": {},
     "output_type": "execute_result"
    }
   ],
   "source": [
    "tup_new"
   ]
  },
  {
   "cell_type": "code",
   "execution_count": null,
   "id": "a2d76076",
   "metadata": {},
   "outputs": [],
   "source": []
  }
 ],
 "metadata": {
  "kernelspec": {
   "display_name": "Python 3 (ipykernel)",
   "language": "python",
   "name": "python3"
  },
  "language_info": {
   "codemirror_mode": {
    "name": "ipython",
    "version": 3
   },
   "file_extension": ".py",
   "mimetype": "text/x-python",
   "name": "python",
   "nbconvert_exporter": "python",
   "pygments_lexer": "ipython3",
   "version": "3.11.5"
  }
 },
 "nbformat": 4,
 "nbformat_minor": 5
}
