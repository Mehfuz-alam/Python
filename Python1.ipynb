{
 "cells": [
  {
   "cell_type": "markdown",
   "id": "58e70961",
   "metadata": {},
   "source": [
    "## Python type Casting\n",
    "Implicit casting - In Implicit type casting, the python complier internally typecasts one variable into another type without the external action of the user.\n",
    "\n",
    "Explicit casting - In explicit type casting, the user explicitly forces the complier to convert a variable from one type to another type."
   ]
  },
  {
   "cell_type": "code",
   "execution_count": 2,
   "id": "444e0e34",
   "metadata": {},
   "outputs": [
    {
     "name": "stdout",
     "output_type": "stream",
     "text": [
      "<class 'int'>\n",
      "<class 'float'>\n",
      "4.5 <class 'float'>\n"
     ]
    }
   ],
   "source": [
    "#implicit casting\n",
    "a = 2\n",
    "b = 2.5\n",
    "print(type(a))\n",
    "print(type(b))\n",
    "c = a+b  #becuase float have greatest precision \n",
    "print(c,type(c))"
   ]
  },
  {
   "cell_type": "code",
   "execution_count": 5,
   "id": "41982255",
   "metadata": {},
   "outputs": [
    {
     "data": {
      "text/plain": [
       "'123'"
      ]
     },
     "execution_count": 5,
     "metadata": {},
     "output_type": "execute_result"
    }
   ],
   "source": [
    "# Explicit casting\n",
    "var = 123 #int\n",
    "str(var)  #string"
   ]
  },
  {
   "cell_type": "code",
   "execution_count": 6,
   "id": "209a445a",
   "metadata": {},
   "outputs": [
    {
     "data": {
      "text/plain": [
       "123.0"
      ]
     },
     "execution_count": 6,
     "metadata": {},
     "output_type": "execute_result"
    }
   ],
   "source": [
    "float(var)"
   ]
  },
  {
   "cell_type": "code",
   "execution_count": 7,
   "id": "dc5c8e28",
   "metadata": {},
   "outputs": [
    {
     "name": "stdout",
     "output_type": "stream",
     "text": [
      "7\n"
     ]
    }
   ],
   "source": [
    "# Float to Integer\n",
    "var = 7.8\n",
    "print(int(var))"
   ]
  },
  {
   "cell_type": "markdown",
   "id": "66abbeee",
   "metadata": {},
   "source": [
    "## String Functions "
   ]
  },
  {
   "cell_type": "code",
   "execution_count": 8,
   "id": "c05001c5",
   "metadata": {},
   "outputs": [
    {
     "data": {
      "text/plain": [
       "'DATASCIENCE'"
      ]
     },
     "execution_count": 8,
     "metadata": {},
     "output_type": "execute_result"
    }
   ],
   "source": [
    "s = \"datascience\"\n",
    "s.upper()"
   ]
  },
  {
   "cell_type": "code",
   "execution_count": 9,
   "id": "1196bdda",
   "metadata": {},
   "outputs": [
    {
     "data": {
      "text/plain": [
       "'datascience'"
      ]
     },
     "execution_count": 9,
     "metadata": {},
     "output_type": "execute_result"
    }
   ],
   "source": [
    "str1 = \"DATASCIENCE\"\n",
    "str1.lower()"
   ]
  },
  {
   "cell_type": "code",
   "execution_count": 10,
   "id": "c7eaeec4",
   "metadata": {},
   "outputs": [
    {
     "data": {
      "text/plain": [
       "'Hello my name is john'"
      ]
     },
     "execution_count": 10,
     "metadata": {},
     "output_type": "execute_result"
    }
   ],
   "source": [
    "str2 = \"hello my name is John\"\n",
    "str2.capitalize()"
   ]
  },
  {
   "cell_type": "code",
   "execution_count": 11,
   "id": "1e70bcec",
   "metadata": {},
   "outputs": [
    {
     "data": {
      "text/plain": [
       "'Hello My Name Is John'"
      ]
     },
     "execution_count": 11,
     "metadata": {},
     "output_type": "execute_result"
    }
   ],
   "source": [
    "str2.title()"
   ]
  },
  {
   "cell_type": "code",
   "execution_count": 12,
   "id": "ab98d7a7",
   "metadata": {},
   "outputs": [
    {
     "data": {
      "text/plain": [
       "'saTASCIENCE'"
      ]
     },
     "execution_count": 12,
     "metadata": {},
     "output_type": "execute_result"
    }
   ],
   "source": [
    "str1.replace('DA','sa')"
   ]
  },
  {
   "cell_type": "code",
   "execution_count": 13,
   "id": "c3319f38",
   "metadata": {},
   "outputs": [
    {
     "data": {
      "text/plain": [
       "'DATASCIENCE'"
      ]
     },
     "execution_count": 13,
     "metadata": {},
     "output_type": "execute_result"
    }
   ],
   "source": [
    "str1"
   ]
  },
  {
   "cell_type": "code",
   "execution_count": 14,
   "id": "923ba27f",
   "metadata": {},
   "outputs": [
    {
     "data": {
      "text/plain": [
       "3"
      ]
     },
     "execution_count": 14,
     "metadata": {},
     "output_type": "execute_result"
    }
   ],
   "source": [
    "str4 = \"one two three one two one four fifty fifty\"\n",
    "str4.count('one')"
   ]
  },
  {
   "cell_type": "code",
   "execution_count": 15,
   "id": "1f302483",
   "metadata": {},
   "outputs": [
    {
     "data": {
      "text/plain": [
       "'First day is Monday and second day is Tuesday'"
      ]
     },
     "execution_count": 15,
     "metadata": {},
     "output_type": "execute_result"
    }
   ],
   "source": [
    "first_day = \"Monday\"\n",
    "second_day = \"Tuesday\"\n",
    "#format function\n",
    "\"First day is {} and second day is {}\".format(first_day,second_day)"
   ]
  },
  {
   "cell_type": "code",
   "execution_count": 16,
   "id": "374058d9",
   "metadata": {},
   "outputs": [
    {
     "data": {
      "text/plain": [
       "'datasciencedatasciencedatasciencedatascience'"
      ]
     },
     "execution_count": 16,
     "metadata": {},
     "output_type": "execute_result"
    }
   ],
   "source": [
    "s*4"
   ]
  },
  {
   "cell_type": "markdown",
   "id": "b26a56b9",
   "metadata": {},
   "source": [
    "## Relational Opertors in Python\n",
    "\"==\" Is Equal To\n",
    "\n",
    "\">=\" Is Greater than or Equal to\n",
    "\n",
    "\"<=\" Is Less than Equal to\n",
    "\n",
    "\">\" Is Greater than\n",
    "\n",
    "\"<\" Is Less than\n",
    "\n",
    "\"!=\" NotEqual to"
   ]
  },
  {
   "cell_type": "code",
   "execution_count": 17,
   "id": "f6b424a8",
   "metadata": {},
   "outputs": [
    {
     "data": {
      "text/plain": [
       "True"
      ]
     },
     "execution_count": 17,
     "metadata": {},
     "output_type": "execute_result"
    }
   ],
   "source": [
    "10 == 10"
   ]
  },
  {
   "cell_type": "code",
   "execution_count": 18,
   "id": "a44bb3f7",
   "metadata": {},
   "outputs": [
    {
     "data": {
      "text/plain": [
       "False"
      ]
     },
     "execution_count": 18,
     "metadata": {},
     "output_type": "execute_result"
    }
   ],
   "source": [
    "10 == '10'"
   ]
  },
  {
   "cell_type": "code",
   "execution_count": 19,
   "id": "52c47744",
   "metadata": {},
   "outputs": [
    {
     "data": {
      "text/plain": [
       "True"
      ]
     },
     "execution_count": 19,
     "metadata": {},
     "output_type": "execute_result"
    }
   ],
   "source": [
    "10 != 9"
   ]
  },
  {
   "cell_type": "code",
   "execution_count": 20,
   "id": "d207bd12",
   "metadata": {},
   "outputs": [
    {
     "data": {
      "text/plain": [
       "True"
      ]
     },
     "execution_count": 20,
     "metadata": {},
     "output_type": "execute_result"
    }
   ],
   "source": [
    "10 > 3"
   ]
  },
  {
   "cell_type": "code",
   "execution_count": 21,
   "id": "4c47f6c4",
   "metadata": {},
   "outputs": [
    {
     "data": {
      "text/plain": [
       "False"
      ]
     },
     "execution_count": 21,
     "metadata": {},
     "output_type": "execute_result"
    }
   ],
   "source": [
    "10 < 3"
   ]
  },
  {
   "cell_type": "code",
   "execution_count": 22,
   "id": "07c7ee41",
   "metadata": {},
   "outputs": [
    {
     "data": {
      "text/plain": [
       "True"
      ]
     },
     "execution_count": 22,
     "metadata": {},
     "output_type": "execute_result"
    }
   ],
   "source": [
    "10 >= 8"
   ]
  },
  {
   "cell_type": "code",
   "execution_count": 23,
   "id": "179fcb3b",
   "metadata": {},
   "outputs": [
    {
     "data": {
      "text/plain": [
       "True"
      ]
     },
     "execution_count": 23,
     "metadata": {},
     "output_type": "execute_result"
    }
   ],
   "source": [
    "10 <= 10"
   ]
  },
  {
   "cell_type": "markdown",
   "id": "cf3c6df9",
   "metadata": {},
   "source": [
    "## Boolean Operators in Python\n",
    "and - Return True if both operands are True , else False\n",
    "\n",
    "or - Return True if one of the operands is true , else False\n",
    "\n",
    "not - Return value opposite to the truth value of the expression"
   ]
  },
  {
   "cell_type": "code",
   "execution_count": 24,
   "id": "06cfed9e",
   "metadata": {},
   "outputs": [
    {
     "name": "stdout",
     "output_type": "stream",
     "text": [
      "False\n"
     ]
    }
   ],
   "source": [
    "print(True and False)"
   ]
  },
  {
   "cell_type": "code",
   "execution_count": 26,
   "id": "c5857364",
   "metadata": {},
   "outputs": [
    {
     "name": "stdout",
     "output_type": "stream",
     "text": [
      "True\n"
     ]
    }
   ],
   "source": [
    "print(True and True and True)"
   ]
  },
  {
   "cell_type": "code",
   "execution_count": 27,
   "id": "d7523ecd",
   "metadata": {},
   "outputs": [
    {
     "name": "stdout",
     "output_type": "stream",
     "text": [
      "True\n"
     ]
    }
   ],
   "source": [
    "print(True or False or False)"
   ]
  },
  {
   "cell_type": "code",
   "execution_count": 28,
   "id": "c834d138",
   "metadata": {},
   "outputs": [
    {
     "name": "stdout",
     "output_type": "stream",
     "text": [
      "False\n"
     ]
    }
   ],
   "source": [
    "print(not True)"
   ]
  },
  {
   "cell_type": "code",
   "execution_count": null,
   "id": "dafd37bb",
   "metadata": {},
   "outputs": [],
   "source": []
  }
 ],
 "metadata": {
  "kernelspec": {
   "display_name": "Python 3 (ipykernel)",
   "language": "python",
   "name": "python3"
  },
  "language_info": {
   "codemirror_mode": {
    "name": "ipython",
    "version": 3
   },
   "file_extension": ".py",
   "mimetype": "text/x-python",
   "name": "python",
   "nbconvert_exporter": "python",
   "pygments_lexer": "ipython3",
   "version": "3.11.5"
  }
 },
 "nbformat": 4,
 "nbformat_minor": 5
}
