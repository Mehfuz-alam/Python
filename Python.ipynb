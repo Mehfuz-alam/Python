{
 "cells": [
  {
   "cell_type": "markdown",
   "id": "28fc6109",
   "metadata": {},
   "source": [
    "### Introduction to Python\n",
    "\n",
    "Python is a popular programming language. It was created by Guido van Rossum, and released in 1991.\n",
    "\n",
    "It is used for :\n",
    "\n",
    "Web Development\n",
    "\n",
    "Software develpoment\n",
    "\n",
    "Data Science\n",
    "\n",
    "System scripting"
   ]
  },
  {
   "cell_type": "markdown",
   "id": "af51ae46",
   "metadata": {},
   "source": [
    "## 1.Print function"
   ]
  },
  {
   "cell_type": "code",
   "execution_count": 1,
   "id": "47d1b82b",
   "metadata": {},
   "outputs": [
    {
     "name": "stdout",
     "output_type": "stream",
     "text": [
      "Hello world\n"
     ]
    }
   ],
   "source": [
    "print(\"Hello world\")"
   ]
  },
  {
   "cell_type": "code",
   "execution_count": 12,
   "id": "3f5d36f5",
   "metadata": {},
   "outputs": [
    {
     "name": "stdout",
     "output_type": "stream",
     "text": [
      "Hello World\n"
     ]
    }
   ],
   "source": [
    "print('Hello World')"
   ]
  },
  {
   "cell_type": "code",
   "execution_count": 3,
   "id": "8a645604",
   "metadata": {},
   "outputs": [
    {
     "name": "stdout",
     "output_type": "stream",
     "text": [
      "Hello world\n"
     ]
    }
   ],
   "source": [
    "print('''Hello world''')"
   ]
  },
  {
   "cell_type": "markdown",
   "id": "34799f9b",
   "metadata": {},
   "source": [
    "## 2.Comments"
   ]
  },
  {
   "cell_type": "code",
   "execution_count": 4,
   "id": "c464559c",
   "metadata": {},
   "outputs": [],
   "source": [
    "# this is a comment"
   ]
  },
  {
   "cell_type": "markdown",
   "id": "c945c098",
   "metadata": {},
   "source": [
    "# 2.1 MultiLine Comments"
   ]
  },
  {
   "cell_type": "code",
   "execution_count": 9,
   "id": "5175eb0b",
   "metadata": {},
   "outputs": [
    {
     "name": "stdout",
     "output_type": "stream",
     "text": [
      "5\n"
     ]
    }
   ],
   "source": [
    "\"\"\"\n",
    "Hello,how are you?\n",
    "\"\"\"\n",
    "print(2+3)"
   ]
  },
  {
   "cell_type": "markdown",
   "id": "0e970a83",
   "metadata": {},
   "source": [
    "# 3.Variable Declaration\n"
   ]
  },
  {
   "cell_type": "code",
   "execution_count": 10,
   "id": "a375eb33",
   "metadata": {},
   "outputs": [
    {
     "name": "stdout",
     "output_type": "stream",
     "text": [
      "5\n"
     ]
    }
   ],
   "source": [
    "a=3\n",
    "b=2\n",
    "res=a+b\n",
    "print(res)"
   ]
  },
  {
   "cell_type": "code",
   "execution_count": 11,
   "id": "6efd6c31",
   "metadata": {},
   "outputs": [
    {
     "data": {
      "text/plain": [
       "int"
      ]
     },
     "execution_count": 11,
     "metadata": {},
     "output_type": "execute_result"
    }
   ],
   "source": [
    "type(res)"
   ]
  },
  {
   "cell_type": "markdown",
   "id": "4e86bd05",
   "metadata": {},
   "source": [
    "# 4.Data Types"
   ]
  },
  {
   "cell_type": "code",
   "execution_count": 13,
   "id": "0d6d70d2",
   "metadata": {},
   "outputs": [],
   "source": [
    "bool1 = True"
   ]
  },
  {
   "cell_type": "code",
   "execution_count": 14,
   "id": "a885b03a",
   "metadata": {},
   "outputs": [
    {
     "data": {
      "text/plain": [
       "bool"
      ]
     },
     "execution_count": 14,
     "metadata": {},
     "output_type": "execute_result"
    }
   ],
   "source": [
    "type(bool1)"
   ]
  },
  {
   "cell_type": "code",
   "execution_count": 16,
   "id": "adc7ff5f",
   "metadata": {},
   "outputs": [
    {
     "data": {
      "text/plain": [
       "float"
      ]
     },
     "execution_count": 16,
     "metadata": {},
     "output_type": "execute_result"
    }
   ],
   "source": [
    "c = 1.5\n",
    "type(c)"
   ]
  },
  {
   "cell_type": "code",
   "execution_count": 19,
   "id": "4e48d28c",
   "metadata": {},
   "outputs": [
    {
     "data": {
      "text/plain": [
       "False"
      ]
     },
     "execution_count": 19,
     "metadata": {},
     "output_type": "execute_result"
    }
   ],
   "source": [
    "bool(0)"
   ]
  },
  {
   "cell_type": "code",
   "execution_count": 20,
   "id": "f8768679",
   "metadata": {},
   "outputs": [
    {
     "data": {
      "text/plain": [
       "True"
      ]
     },
     "execution_count": 20,
     "metadata": {},
     "output_type": "execute_result"
    }
   ],
   "source": [
    "bool(1)"
   ]
  },
  {
   "cell_type": "code",
   "execution_count": 21,
   "id": "d1db88ba",
   "metadata": {},
   "outputs": [
    {
     "data": {
      "text/plain": [
       "2"
      ]
     },
     "execution_count": 21,
     "metadata": {},
     "output_type": "execute_result"
    }
   ],
   "source": [
    "int(2.5)"
   ]
  },
  {
   "cell_type": "code",
   "execution_count": 22,
   "id": "1e413271",
   "metadata": {},
   "outputs": [
    {
     "name": "stdout",
     "output_type": "stream",
     "text": [
      "<class 'float'>\n"
     ]
    }
   ],
   "source": [
    "d = 2.51\n",
    "print(type(d))"
   ]
  },
  {
   "cell_type": "code",
   "execution_count": 25,
   "id": "ad4486c5",
   "metadata": {},
   "outputs": [
    {
     "name": "stdout",
     "output_type": "stream",
     "text": [
      "<class 'complex'>\n"
     ]
    }
   ],
   "source": [
    "# complex number\n",
    "\n",
    "val = 3 + 4j  # always j\n",
    "print(type(val))"
   ]
  },
  {
   "cell_type": "code",
   "execution_count": 27,
   "id": "191e0872",
   "metadata": {},
   "outputs": [
    {
     "data": {
      "text/plain": [
       "3.0"
      ]
     },
     "execution_count": 27,
     "metadata": {},
     "output_type": "execute_result"
    }
   ],
   "source": [
    "val.real"
   ]
  },
  {
   "cell_type": "code",
   "execution_count": 28,
   "id": "c208fe27",
   "metadata": {},
   "outputs": [
    {
     "data": {
      "text/plain": [
       "4.0"
      ]
     },
     "execution_count": 28,
     "metadata": {},
     "output_type": "execute_result"
    }
   ],
   "source": [
    "val.imag"
   ]
  },
  {
   "cell_type": "markdown",
   "id": "99da9333",
   "metadata": {},
   "source": [
    "# 5.String"
   ]
  },
  {
   "cell_type": "code",
   "execution_count": 29,
   "id": "4f7e0980",
   "metadata": {},
   "outputs": [
    {
     "name": "stdout",
     "output_type": "stream",
     "text": [
      "HELLO PYTHON\n"
     ]
    }
   ],
   "source": [
    "str1 = \"HELLO PYTHON\"\n",
    "print(str1)"
   ]
  },
  {
   "cell_type": "code",
   "execution_count": 30,
   "id": "667f9cef",
   "metadata": {},
   "outputs": [
    {
     "name": "stdout",
     "output_type": "stream",
     "text": [
      "HELLO PYTHON\n"
     ]
    }
   ],
   "source": [
    "str2 = 'HELLO PYTHON'\n",
    "print(str2)"
   ]
  },
  {
   "cell_type": "code",
   "execution_count": 31,
   "id": "ae26574d",
   "metadata": {},
   "outputs": [
    {
     "name": "stdout",
     "output_type": "stream",
     "text": [
      "HELLO PYTHON\n"
     ]
    }
   ],
   "source": [
    "str3 = '''HELLO PYTHON'''\n",
    "print(str3)"
   ]
  },
  {
   "cell_type": "code",
   "execution_count": 32,
   "id": "e05b6a53",
   "metadata": {},
   "outputs": [
    {
     "name": "stdout",
     "output_type": "stream",
     "text": [
      "('Happy', 'Sad', 'smiling')\n"
     ]
    }
   ],
   "source": [
    "mystr = (\"Happy\",\"Sad\",\"smiling\")\n",
    "print(mystr)"
   ]
  },
  {
   "cell_type": "code",
   "execution_count": 33,
   "id": "35cfdf91",
   "metadata": {},
   "outputs": [
    {
     "data": {
      "text/plain": [
       "12"
      ]
     },
     "execution_count": 33,
     "metadata": {},
     "output_type": "execute_result"
    }
   ],
   "source": [
    "len(str2)"
   ]
  },
  {
   "cell_type": "code",
   "execution_count": 34,
   "id": "ee0f9568",
   "metadata": {},
   "outputs": [
    {
     "data": {
      "text/plain": [
       "'Happy'"
      ]
     },
     "execution_count": 34,
     "metadata": {},
     "output_type": "execute_result"
    }
   ],
   "source": [
    "# String Indexing\n",
    "\n",
    "mystr[0]"
   ]
  },
  {
   "cell_type": "code",
   "execution_count": 35,
   "id": "ed0402d7",
   "metadata": {},
   "outputs": [
    {
     "data": {
      "text/plain": [
       "'smiling'"
      ]
     },
     "execution_count": 35,
     "metadata": {},
     "output_type": "execute_result"
    }
   ],
   "source": [
    "mystr[2]"
   ]
  },
  {
   "cell_type": "code",
   "execution_count": 36,
   "id": "e713a518",
   "metadata": {},
   "outputs": [
    {
     "data": {
      "text/plain": [
       "'O'"
      ]
     },
     "execution_count": 36,
     "metadata": {},
     "output_type": "execute_result"
    }
   ],
   "source": [
    "str2[4]"
   ]
  },
  {
   "cell_type": "code",
   "execution_count": 38,
   "id": "4d861a7a",
   "metadata": {},
   "outputs": [
    {
     "data": {
      "text/plain": [
       "'N'"
      ]
     },
     "execution_count": 38,
     "metadata": {},
     "output_type": "execute_result"
    }
   ],
   "source": [
    "str3[len(str3)-1] #Last Character in string using len function "
   ]
  },
  {
   "cell_type": "code",
   "execution_count": 39,
   "id": "9d98ad72",
   "metadata": {},
   "outputs": [
    {
     "data": {
      "text/plain": [
       "'N'"
      ]
     },
     "execution_count": 39,
     "metadata": {},
     "output_type": "execute_result"
    }
   ],
   "source": [
    "str3[-1]"
   ]
  },
  {
   "cell_type": "code",
   "execution_count": 40,
   "id": "a18d670e",
   "metadata": {},
   "outputs": [
    {
     "data": {
      "text/plain": [
       "'O'"
      ]
     },
     "execution_count": 40,
     "metadata": {},
     "output_type": "execute_result"
    }
   ],
   "source": [
    "str2[-2]"
   ]
  },
  {
   "cell_type": "code",
   "execution_count": 41,
   "id": "d37c1c88",
   "metadata": {},
   "outputs": [
    {
     "data": {
      "text/plain": [
       "' '"
      ]
     },
     "execution_count": 41,
     "metadata": {},
     "output_type": "execute_result"
    }
   ],
   "source": [
    "str2[-7]"
   ]
  },
  {
   "cell_type": "code",
   "execution_count": 42,
   "id": "9adef94a",
   "metadata": {},
   "outputs": [
    {
     "ename": "IndexError",
     "evalue": "string index out of range",
     "output_type": "error",
     "traceback": [
      "\u001b[1;31m---------------------------------------------------------------------------\u001b[0m",
      "\u001b[1;31mIndexError\u001b[0m                                Traceback (most recent call last)",
      "Cell \u001b[1;32mIn[42], line 1\u001b[0m\n\u001b[1;32m----> 1\u001b[0m str3[\u001b[38;5;241m22\u001b[39m]\n",
      "\u001b[1;31mIndexError\u001b[0m: string index out of range"
     ]
    }
   ],
   "source": [
    "str3[22]"
   ]
  },
  {
   "cell_type": "code",
   "execution_count": 43,
   "id": "e6e6a95c",
   "metadata": {},
   "outputs": [
    {
     "data": {
      "text/plain": [
       "'HELLO'"
      ]
     },
     "execution_count": 43,
     "metadata": {},
     "output_type": "execute_result"
    }
   ],
   "source": [
    "# String Slicing\n",
    "\n",
    "str3[0:5]"
   ]
  },
  {
   "cell_type": "code",
   "execution_count": 44,
   "id": "2726114a",
   "metadata": {},
   "outputs": [
    {
     "data": {
      "text/plain": [
       "'HEL'"
      ]
     },
     "execution_count": 44,
     "metadata": {},
     "output_type": "execute_result"
    }
   ],
   "source": [
    "str3[0:3] # 0 to N-1 indexing (0,1 and 2)"
   ]
  },
  {
   "cell_type": "code",
   "execution_count": 45,
   "id": "59eb350a",
   "metadata": {},
   "outputs": [
    {
     "data": {
      "text/plain": [
       "'PTO RGAM'"
      ]
     },
     "execution_count": 45,
     "metadata": {},
     "output_type": "execute_result"
    }
   ],
   "source": [
    "str4 = \"PYTHON PROGRAMMING\"\n",
    "str4[0:15:2]"
   ]
  },
  {
   "cell_type": "code",
   "execution_count": 46,
   "id": "90090001",
   "metadata": {},
   "outputs": [
    {
     "data": {
      "text/plain": [
       "'PH OA'"
      ]
     },
     "execution_count": 46,
     "metadata": {},
     "output_type": "execute_result"
    }
   ],
   "source": [
    "str4[0:15:3]"
   ]
  },
  {
   "cell_type": "code",
   "execution_count": 48,
   "id": "c84f4d78",
   "metadata": {},
   "outputs": [
    {
     "data": {
      "text/plain": [
       "'MING'"
      ]
     },
     "execution_count": 48,
     "metadata": {},
     "output_type": "execute_result"
    }
   ],
   "source": [
    "str4[-4:]"
   ]
  },
  {
   "cell_type": "code",
   "execution_count": 49,
   "id": "fc69c471",
   "metadata": {},
   "outputs": [
    {
     "data": {
      "text/plain": [
       "'PYTHON PROGRAM'"
      ]
     },
     "execution_count": 49,
     "metadata": {},
     "output_type": "execute_result"
    }
   ],
   "source": [
    "str4[:-4]"
   ]
  },
  {
   "cell_type": "code",
   "execution_count": 50,
   "id": "ed815e8b",
   "metadata": {},
   "outputs": [
    {
     "name": "stdout",
     "output_type": "stream",
     "text": [
      "PYTH\n",
      "ON PROGRAMMING\n"
     ]
    }
   ],
   "source": [
    "print(str4[:4])\n",
    "print(str4[4:])"
   ]
  },
  {
   "cell_type": "code",
   "execution_count": 51,
   "id": "aff2ca9b",
   "metadata": {},
   "outputs": [
    {
     "data": {
      "text/plain": [
       "'GNIMMARGORP NOHTYP'"
      ]
     },
     "execution_count": 51,
     "metadata": {},
     "output_type": "execute_result"
    }
   ],
   "source": [
    "str4[::-1]"
   ]
  },
  {
   "cell_type": "code",
   "execution_count": 52,
   "id": "780b0bd4",
   "metadata": {},
   "outputs": [
    {
     "data": {
      "text/plain": [
       "'GIMROPNHY'"
      ]
     },
     "execution_count": 52,
     "metadata": {},
     "output_type": "execute_result"
    }
   ],
   "source": [
    "str4[::-2]"
   ]
  },
  {
   "cell_type": "code",
   "execution_count": 53,
   "id": "3537764a",
   "metadata": {},
   "outputs": [
    {
     "data": {
      "text/plain": [
       "'DataScience'"
      ]
     },
     "execution_count": 53,
     "metadata": {},
     "output_type": "execute_result"
    }
   ],
   "source": [
    "# String Concatenation\n",
    "str5 = \"Data\"\n",
    "str6 = \"Science\"\n",
    "str5 + str6"
   ]
  },
  {
   "cell_type": "code",
   "execution_count": 54,
   "id": "206e006c",
   "metadata": {},
   "outputs": [
    {
     "ename": "TypeError",
     "evalue": "can only concatenate str (not \"int\") to str",
     "output_type": "error",
     "traceback": [
      "\u001b[1;31m---------------------------------------------------------------------------\u001b[0m",
      "\u001b[1;31mTypeError\u001b[0m                                 Traceback (most recent call last)",
      "Cell \u001b[1;32mIn[54], line 2\u001b[0m\n\u001b[0;32m      1\u001b[0m e \u001b[38;5;241m=\u001b[39m \u001b[38;5;241m10\u001b[39m\n\u001b[1;32m----> 2\u001b[0m str5 \u001b[38;5;241m+\u001b[39m e\n",
      "\u001b[1;31mTypeError\u001b[0m: can only concatenate str (not \"int\") to str"
     ]
    }
   ],
   "source": [
    "e = 10\n",
    "str5 + e"
   ]
  },
  {
   "cell_type": "code",
   "execution_count": 55,
   "id": "3a9df11c",
   "metadata": {},
   "outputs": [],
   "source": [
    "f = \"10\""
   ]
  },
  {
   "cell_type": "code",
   "execution_count": 56,
   "id": "753554d9",
   "metadata": {},
   "outputs": [
    {
     "data": {
      "text/plain": [
       "'Data10'"
      ]
     },
     "execution_count": 56,
     "metadata": {},
     "output_type": "execute_result"
    }
   ],
   "source": [
    "str5 + f"
   ]
  },
  {
   "cell_type": "code",
   "execution_count": null,
   "id": "795baba1",
   "metadata": {},
   "outputs": [],
   "source": []
  }
 ],
 "metadata": {
  "kernelspec": {
   "display_name": "Python 3 (ipykernel)",
   "language": "python",
   "name": "python3"
  },
  "language_info": {
   "codemirror_mode": {
    "name": "ipython",
    "version": 3
   },
   "file_extension": ".py",
   "mimetype": "text/x-python",
   "name": "python",
   "nbconvert_exporter": "python",
   "pygments_lexer": "ipython3",
   "version": "3.11.5"
  }
 },
 "nbformat": 4,
 "nbformat_minor": 5
}
