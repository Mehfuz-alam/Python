{
 "cells": [
  {
   "cell_type": "markdown",
   "id": "674feaa6",
   "metadata": {},
   "source": [
    "## List\n",
    "Lists are used to store multiple items in a single variable.\n",
    "\n",
    "List can contains any arbitary objects\n",
    "\n",
    "Nested List\n",
    "\n",
    "We can have different data types under a list eg we can have integer, float and string items in a same list.\n",
    "\n",
    "Lists are mutable i.e object or variable to be changed or modified after its creation.\n",
    "\n",
    "We can two lists.\n",
    "\n",
    "Lists are ordered."
   ]
  },
  {
   "cell_type": "code",
   "execution_count": 1,
   "id": "51cb96ee",
   "metadata": {},
   "outputs": [],
   "source": [
    "example=[\"Sunday\",\"Monday\",\"Tuesday\"]"
   ]
  },
  {
   "cell_type": "code",
   "execution_count": 2,
   "id": "db1a5b19",
   "metadata": {},
   "outputs": [
    {
     "name": "stdout",
     "output_type": "stream",
     "text": [
      "['Sunday', 'Monday', 'Tuesday']\n"
     ]
    }
   ],
   "source": [
    "print(example)"
   ]
  },
  {
   "cell_type": "code",
   "execution_count": 3,
   "id": "2d976cf0",
   "metadata": {},
   "outputs": [
    {
     "name": "stdout",
     "output_type": "stream",
     "text": [
      "<class 'list'>\n"
     ]
    }
   ],
   "source": [
    "print(type(example))"
   ]
  },
  {
   "cell_type": "code",
   "execution_count": 4,
   "id": "55b2f3e5",
   "metadata": {},
   "outputs": [
    {
     "name": "stdout",
     "output_type": "stream",
     "text": [
      "[10, 20.7, 'DataScience', 'Machine Learning']\n"
     ]
    }
   ],
   "source": [
    "# int , float , string \n",
    "\n",
    "l = [10, 20.7, 'DataScience', \"Machine Learning\"]\n",
    "print(l)"
   ]
  },
  {
   "cell_type": "code",
   "execution_count": 5,
   "id": "d4d40a33",
   "metadata": {},
   "outputs": [
    {
     "data": {
      "text/plain": [
       "['python', 3.14, 2002, [1, 1, 2, 3, 4, 5, 6, 7, 1, 9]]"
      ]
     },
     "execution_count": 5,
     "metadata": {},
     "output_type": "execute_result"
    }
   ],
   "source": [
    "l1 = ['python', 3.14, 2002,[1,1,2,3,4,5,6,7,1,9]]\n",
    "l1"
   ]
  },
  {
   "cell_type": "code",
   "execution_count": 6,
   "id": "4e3f44e7",
   "metadata": {},
   "outputs": [],
   "source": [
    "l2=[10,20,True]"
   ]
  },
  {
   "cell_type": "code",
   "execution_count": 7,
   "id": "4ab6ded1",
   "metadata": {},
   "outputs": [
    {
     "data": {
      "text/plain": [
       "[10, 20, True]"
      ]
     },
     "execution_count": 7,
     "metadata": {},
     "output_type": "execute_result"
    }
   ],
   "source": [
    "l2"
   ]
  },
  {
   "cell_type": "code",
   "execution_count": 8,
   "id": "182de888",
   "metadata": {},
   "outputs": [
    {
     "data": {
      "text/plain": [
       "3"
      ]
     },
     "execution_count": 8,
     "metadata": {},
     "output_type": "execute_result"
    }
   ],
   "source": [
    "len(l2)"
   ]
  },
  {
   "cell_type": "code",
   "execution_count": 9,
   "id": "a8d2f33b",
   "metadata": {},
   "outputs": [
    {
     "ename": "IndexError",
     "evalue": "list index out of range",
     "output_type": "error",
     "traceback": [
      "\u001b[1;31m---------------------------------------------------------------------------\u001b[0m",
      "\u001b[1;31mIndexError\u001b[0m                                Traceback (most recent call last)",
      "Cell \u001b[1;32mIn[9], line 1\u001b[0m\n\u001b[1;32m----> 1\u001b[0m l2[\u001b[38;5;241m3\u001b[39m]\n",
      "\u001b[1;31mIndexError\u001b[0m: list index out of range"
     ]
    }
   ],
   "source": [
    "l2[3]"
   ]
  },
  {
   "cell_type": "code",
   "execution_count": 10,
   "id": "3cf2d15c",
   "metadata": {},
   "outputs": [
    {
     "data": {
      "text/plain": [
       "True"
      ]
     },
     "execution_count": 10,
     "metadata": {},
     "output_type": "execute_result"
    }
   ],
   "source": [
    "l2[2]"
   ]
  },
  {
   "cell_type": "code",
   "execution_count": 11,
   "id": "222c7f01",
   "metadata": {},
   "outputs": [
    {
     "data": {
      "text/plain": [
       "['Sunday', 'Monday']"
      ]
     },
     "execution_count": 11,
     "metadata": {},
     "output_type": "execute_result"
    }
   ],
   "source": [
    "example = ['Sunday', 'Monday','Tuesday', 'Wednesday']\n",
    "#postive slicing\n",
    "example[0:2]\n"
   ]
  },
  {
   "cell_type": "code",
   "execution_count": 15,
   "id": "59f3653d",
   "metadata": {},
   "outputs": [
    {
     "data": {
      "text/plain": [
       "['Tuesday', 'Wednesday']"
      ]
     },
     "execution_count": 15,
     "metadata": {},
     "output_type": "execute_result"
    }
   ],
   "source": [
    "example[-2:]"
   ]
  },
  {
   "cell_type": "code",
   "execution_count": 16,
   "id": "557e2a33",
   "metadata": {},
   "outputs": [
    {
     "data": {
      "text/plain": [
       "'Tuesday'"
      ]
     },
     "execution_count": 16,
     "metadata": {},
     "output_type": "execute_result"
    }
   ],
   "source": [
    "example[-2]"
   ]
  },
  {
   "cell_type": "code",
   "execution_count": 17,
   "id": "fcb20390",
   "metadata": {},
   "outputs": [
    {
     "data": {
      "text/plain": [
       "['Sunday', 'Tuesday']"
      ]
     },
     "execution_count": 17,
     "metadata": {},
     "output_type": "execute_result"
    }
   ],
   "source": [
    "example[0:4:2]"
   ]
  },
  {
   "cell_type": "code",
   "execution_count": 18,
   "id": "e4c3b63a",
   "metadata": {},
   "outputs": [
    {
     "data": {
      "text/plain": [
       "['Monday', 'Tuesday']"
      ]
     },
     "execution_count": 18,
     "metadata": {},
     "output_type": "execute_result"
    }
   ],
   "source": [
    "\n",
    "#negative slicing \n",
    "example[-3:-1]"
   ]
  },
  {
   "cell_type": "code",
   "execution_count": 19,
   "id": "d67747c6",
   "metadata": {},
   "outputs": [
    {
     "data": {
      "text/plain": [
       "['Wednesday', 'Tuesday', 'Monday', 'Sunday']"
      ]
     },
     "execution_count": 19,
     "metadata": {},
     "output_type": "execute_result"
    }
   ],
   "source": [
    "example[::-1]"
   ]
  },
  {
   "cell_type": "code",
   "execution_count": 20,
   "id": "407de1d6",
   "metadata": {},
   "outputs": [
    {
     "data": {
      "text/plain": [
       "'Sunday'"
      ]
     },
     "execution_count": 20,
     "metadata": {},
     "output_type": "execute_result"
    }
   ],
   "source": [
    "example[0]"
   ]
  },
  {
   "cell_type": "code",
   "execution_count": 21,
   "id": "1360d830",
   "metadata": {},
   "outputs": [],
   "source": [
    "example[0]=\"Saturday\""
   ]
  },
  {
   "cell_type": "code",
   "execution_count": 22,
   "id": "6a6e87e4",
   "metadata": {},
   "outputs": [
    {
     "data": {
      "text/plain": [
       "['Saturday', 'Monday', 'Tuesday', 'Wednesday']"
      ]
     },
     "execution_count": 22,
     "metadata": {},
     "output_type": "execute_result"
    }
   ],
   "source": [
    "example"
   ]
  },
  {
   "cell_type": "code",
   "execution_count": 23,
   "id": "6e45c919",
   "metadata": {},
   "outputs": [
    {
     "data": {
      "text/plain": [
       "[10, 20.7, 'DataScience', 'Machine Learning']"
      ]
     },
     "execution_count": 23,
     "metadata": {},
     "output_type": "execute_result"
    }
   ],
   "source": [
    "s ='dsskills' #string\n",
    "l   #list"
   ]
  },
  {
   "cell_type": "code",
   "execution_count": 24,
   "id": "a15e067c",
   "metadata": {},
   "outputs": [
    {
     "ename": "TypeError",
     "evalue": "can only concatenate str (not \"list\") to str",
     "output_type": "error",
     "traceback": [
      "\u001b[1;31m---------------------------------------------------------------------------\u001b[0m",
      "\u001b[1;31mTypeError\u001b[0m                                 Traceback (most recent call last)",
      "Cell \u001b[1;32mIn[24], line 1\u001b[0m\n\u001b[1;32m----> 1\u001b[0m s \u001b[38;5;241m+\u001b[39m l\n",
      "\u001b[1;31mTypeError\u001b[0m: can only concatenate str (not \"list\") to str"
     ]
    }
   ],
   "source": [
    "s + l"
   ]
  },
  {
   "cell_type": "code",
   "execution_count": 25,
   "id": "4b823f81",
   "metadata": {},
   "outputs": [
    {
     "data": {
      "text/plain": [
       "['d',\n",
       " 's',\n",
       " 's',\n",
       " 'k',\n",
       " 'i',\n",
       " 'l',\n",
       " 'l',\n",
       " 's',\n",
       " 10,\n",
       " 20.7,\n",
       " 'DataScience',\n",
       " 'Machine Learning']"
      ]
     },
     "execution_count": 25,
     "metadata": {},
     "output_type": "execute_result"
    }
   ],
   "source": [
    "list(s)+l "
   ]
  },
  {
   "cell_type": "code",
   "execution_count": 26,
   "id": "f6dbc47e",
   "metadata": {},
   "outputs": [
    {
     "name": "stdout",
     "output_type": "stream",
     "text": [
      "<class 'list'>\n",
      "<class 'list'>\n"
     ]
    }
   ],
   "source": [
    "a = [\"machine learning\", 'data sciene', 'deep learning']\n",
    "b = [10, 20, 3.14, \"Gen AI\"]\n",
    "print(type(a))\n",
    "print(type(b))"
   ]
  },
  {
   "cell_type": "code",
   "execution_count": 28,
   "id": "4935e77d",
   "metadata": {},
   "outputs": [
    {
     "data": {
      "text/plain": [
       "str"
      ]
     },
     "execution_count": 28,
     "metadata": {},
     "output_type": "execute_result"
    }
   ],
   "source": [
    "type(a[0])"
   ]
  },
  {
   "cell_type": "code",
   "execution_count": 29,
   "id": "83f2bea7",
   "metadata": {},
   "outputs": [
    {
     "data": {
      "text/plain": [
       "['machine learning',\n",
       " 'data sciene',\n",
       " 'deep learning',\n",
       " 'machine learning',\n",
       " 'data sciene',\n",
       " 'deep learning',\n",
       " 'machine learning',\n",
       " 'data sciene',\n",
       " 'deep learning']"
      ]
     },
     "execution_count": 29,
     "metadata": {},
     "output_type": "execute_result"
    }
   ],
   "source": [
    "a*3"
   ]
  },
  {
   "cell_type": "code",
   "execution_count": 30,
   "id": "160294c6",
   "metadata": {},
   "outputs": [
    {
     "data": {
      "text/plain": [
       "[1, 345, 45, 'ai', True, (3+6j), 34.98]"
      ]
     },
     "execution_count": 30,
     "metadata": {},
     "output_type": "execute_result"
    }
   ],
   "source": [
    "\n",
    "l = [1 , 345, 45 , 'ai', True , (3+6j), 34.98]\n",
    "l"
   ]
  },
  {
   "cell_type": "code",
   "execution_count": 31,
   "id": "12237c1a",
   "metadata": {},
   "outputs": [],
   "source": [
    "l.append(5)"
   ]
  },
  {
   "cell_type": "code",
   "execution_count": 32,
   "id": "9c99c205",
   "metadata": {},
   "outputs": [
    {
     "data": {
      "text/plain": [
       "[1, 345, 45, 'ai', True, (3+6j), 34.98, 5]"
      ]
     },
     "execution_count": 32,
     "metadata": {},
     "output_type": "execute_result"
    }
   ],
   "source": [
    "l"
   ]
  },
  {
   "cell_type": "code",
   "execution_count": 33,
   "id": "432def1d",
   "metadata": {},
   "outputs": [],
   "source": [
    "l.append(example)"
   ]
  },
  {
   "cell_type": "code",
   "execution_count": 34,
   "id": "da599465",
   "metadata": {},
   "outputs": [
    {
     "data": {
      "text/plain": [
       "[1,\n",
       " 345,\n",
       " 45,\n",
       " 'ai',\n",
       " True,\n",
       " (3+6j),\n",
       " 34.98,\n",
       " 5,\n",
       " ['Saturday', 'Monday', 'Tuesday', 'Wednesday']]"
      ]
     },
     "execution_count": 34,
     "metadata": {},
     "output_type": "execute_result"
    }
   ],
   "source": [
    "l"
   ]
  },
  {
   "cell_type": "code",
   "execution_count": 35,
   "id": "1a2112f2",
   "metadata": {},
   "outputs": [
    {
     "ename": "TypeError",
     "evalue": "'int' object is not iterable",
     "output_type": "error",
     "traceback": [
      "\u001b[1;31m---------------------------------------------------------------------------\u001b[0m",
      "\u001b[1;31mTypeError\u001b[0m                                 Traceback (most recent call last)",
      "Cell \u001b[1;32mIn[35], line 1\u001b[0m\n\u001b[1;32m----> 1\u001b[0m l\u001b[38;5;241m.\u001b[39mextend(\u001b[38;5;241m4\u001b[39m)\n",
      "\u001b[1;31mTypeError\u001b[0m: 'int' object is not iterable"
     ]
    }
   ],
   "source": [
    "l.extend(4)   #Extend list by appending elements from the iterable."
   ]
  },
  {
   "cell_type": "code",
   "execution_count": 36,
   "id": "1be1223a",
   "metadata": {},
   "outputs": [],
   "source": [
    "l.extend('rahul')"
   ]
  },
  {
   "cell_type": "code",
   "execution_count": 37,
   "id": "f4d2d1f5",
   "metadata": {},
   "outputs": [
    {
     "data": {
      "text/plain": [
       "[1,\n",
       " 345,\n",
       " 45,\n",
       " 'ai',\n",
       " True,\n",
       " (3+6j),\n",
       " 34.98,\n",
       " 5,\n",
       " ['Saturday', 'Monday', 'Tuesday', 'Wednesday'],\n",
       " 'r',\n",
       " 'a',\n",
       " 'h',\n",
       " 'u',\n",
       " 'l']"
      ]
     },
     "execution_count": 37,
     "metadata": {},
     "output_type": "execute_result"
    }
   ],
   "source": [
    "l"
   ]
  },
  {
   "cell_type": "code",
   "execution_count": 40,
   "id": "3072f164",
   "metadata": {},
   "outputs": [
    {
     "data": {
      "text/plain": [
       "[1,\n",
       " 345,\n",
       " 45,\n",
       " 'ai',\n",
       " True,\n",
       " (3+6j),\n",
       " 34.98,\n",
       " 5,\n",
       " ['Saturday', 'Monday', 'Tuesday', 'Wednesday'],\n",
       " 'r',\n",
       " 'a',\n",
       " 'h',\n",
       " 'u',\n",
       " 'l',\n",
       " 20.5,\n",
       " 60,\n",
       " 20.5,\n",
       " 60,\n",
       " 20.5,\n",
       " 60]"
      ]
     },
     "execution_count": 40,
     "metadata": {},
     "output_type": "execute_result"
    }
   ],
   "source": [
    "\n",
    "l.extend([20.50,60])\n",
    "l"
   ]
  },
  {
   "cell_type": "code",
   "execution_count": 41,
   "id": "d6435307",
   "metadata": {},
   "outputs": [
    {
     "ename": "TypeError",
     "evalue": "'bool' object is not iterable",
     "output_type": "error",
     "traceback": [
      "\u001b[1;31m---------------------------------------------------------------------------\u001b[0m",
      "\u001b[1;31mTypeError\u001b[0m                                 Traceback (most recent call last)",
      "Cell \u001b[1;32mIn[41], line 1\u001b[0m\n\u001b[1;32m----> 1\u001b[0m l\u001b[38;5;241m.\u001b[39mextend(\u001b[38;5;28;01mFalse\u001b[39;00m)\n\u001b[0;32m      2\u001b[0m l\n",
      "\u001b[1;31mTypeError\u001b[0m: 'bool' object is not iterable"
     ]
    }
   ],
   "source": [
    "l.extend(False)\n",
    "l"
   ]
  },
  {
   "cell_type": "code",
   "execution_count": 42,
   "id": "82e88074",
   "metadata": {},
   "outputs": [
    {
     "data": {
      "text/plain": [
       "[1,\n",
       " 345,\n",
       " 45,\n",
       " 'ai',\n",
       " True,\n",
       " (3+6j),\n",
       " 34.98,\n",
       " 5,\n",
       " ['Saturday', 'Monday', 'Tuesday', 'Wednesday'],\n",
       " 'r',\n",
       " 'a',\n",
       " 'h',\n",
       " 'u',\n",
       " 'l',\n",
       " 20.5,\n",
       " 60,\n",
       " 20.5,\n",
       " 60,\n",
       " 20.5,\n",
       " 60]"
      ]
     },
     "execution_count": 42,
     "metadata": {},
     "output_type": "execute_result"
    }
   ],
   "source": [
    "l"
   ]
  },
  {
   "cell_type": "code",
   "execution_count": 43,
   "id": "26489e6b",
   "metadata": {},
   "outputs": [],
   "source": [
    "l.insert(1,'cloud')"
   ]
  },
  {
   "cell_type": "code",
   "execution_count": 44,
   "id": "3506e410",
   "metadata": {},
   "outputs": [
    {
     "data": {
      "text/plain": [
       "[1,\n",
       " 'cloud',\n",
       " 345,\n",
       " 45,\n",
       " 'ai',\n",
       " True,\n",
       " (3+6j),\n",
       " 34.98,\n",
       " 5,\n",
       " ['Saturday', 'Monday', 'Tuesday', 'Wednesday'],\n",
       " 'r',\n",
       " 'a',\n",
       " 'h',\n",
       " 'u',\n",
       " 'l',\n",
       " 20.5,\n",
       " 60,\n",
       " 20.5,\n",
       " 60,\n",
       " 20.5,\n",
       " 60]"
      ]
     },
     "execution_count": 44,
     "metadata": {},
     "output_type": "execute_result"
    }
   ],
   "source": [
    "l"
   ]
  },
  {
   "cell_type": "code",
   "execution_count": 45,
   "id": "e423eb96",
   "metadata": {},
   "outputs": [
    {
     "data": {
      "text/plain": [
       "[1,\n",
       " 'cloud',\n",
       " 345,\n",
       " 45,\n",
       " 'ai',\n",
       " True,\n",
       " (3+6j),\n",
       " 34.98,\n",
       " 5,\n",
       " ['Saturday', 'Monday', 'Tuesday', 'Wednesday'],\n",
       " 'r',\n",
       " 'a',\n",
       " 'h',\n",
       " 'u',\n",
       " 'l',\n",
       " 20.5,\n",
       " 60,\n",
       " 20.5,\n",
       " 60,\n",
       " 20.5,\n",
       " 45,\n",
       " 60]"
      ]
     },
     "execution_count": 45,
     "metadata": {},
     "output_type": "execute_result"
    }
   ],
   "source": [
    "l.insert(-1,45)\n",
    "l"
   ]
  },
  {
   "cell_type": "code",
   "execution_count": 47,
   "id": "e482ae48",
   "metadata": {},
   "outputs": [
    {
     "data": {
      "text/plain": [
       "15"
      ]
     },
     "execution_count": 47,
     "metadata": {},
     "output_type": "execute_result"
    }
   ],
   "source": [
    "l.index(20.5)  #Return first index of value."
   ]
  },
  {
   "cell_type": "code",
   "execution_count": 48,
   "id": "9926f485",
   "metadata": {},
   "outputs": [
    {
     "data": {
      "text/plain": [
       "1"
      ]
     },
     "execution_count": 48,
     "metadata": {},
     "output_type": "execute_result"
    }
   ],
   "source": [
    "l.index('cloud')  #Return first index of value."
   ]
  },
  {
   "cell_type": "code",
   "execution_count": 49,
   "id": "b85ab806",
   "metadata": {},
   "outputs": [
    {
     "data": {
      "text/plain": [
       "45"
      ]
     },
     "execution_count": 49,
     "metadata": {},
     "output_type": "execute_result"
    }
   ],
   "source": [
    "l.pop(3)  #Remove and return item at index (default last)."
   ]
  },
  {
   "cell_type": "code",
   "execution_count": 50,
   "id": "b181619f",
   "metadata": {},
   "outputs": [
    {
     "data": {
      "text/plain": [
       "[1,\n",
       " 'cloud',\n",
       " 345,\n",
       " 'ai',\n",
       " True,\n",
       " (3+6j),\n",
       " 34.98,\n",
       " 5,\n",
       " ['Saturday', 'Monday', 'Tuesday', 'Wednesday'],\n",
       " 'r',\n",
       " 'a',\n",
       " 'h',\n",
       " 'u',\n",
       " 'l',\n",
       " 20.5,\n",
       " 60,\n",
       " 20.5,\n",
       " 60,\n",
       " 20.5,\n",
       " 45,\n",
       " 60]"
      ]
     },
     "execution_count": 50,
     "metadata": {},
     "output_type": "execute_result"
    }
   ],
   "source": [
    "l"
   ]
  },
  {
   "cell_type": "code",
   "execution_count": 51,
   "id": "95e1393a",
   "metadata": {},
   "outputs": [
    {
     "data": {
      "text/plain": [
       "60"
      ]
     },
     "execution_count": 51,
     "metadata": {},
     "output_type": "execute_result"
    }
   ],
   "source": [
    "l.pop()"
   ]
  },
  {
   "cell_type": "code",
   "execution_count": 52,
   "id": "1645a6a3",
   "metadata": {},
   "outputs": [
    {
     "data": {
      "text/plain": [
       "[1,\n",
       " 'cloud',\n",
       " 345,\n",
       " 'ai',\n",
       " True,\n",
       " (3+6j),\n",
       " 34.98,\n",
       " 5,\n",
       " ['Saturday', 'Monday', 'Tuesday', 'Wednesday'],\n",
       " 'r',\n",
       " 'a',\n",
       " 'h',\n",
       " 'u',\n",
       " 'l',\n",
       " 20.5,\n",
       " 60,\n",
       " 20.5,\n",
       " 60,\n",
       " 20.5,\n",
       " 45]"
      ]
     },
     "execution_count": 52,
     "metadata": {},
     "output_type": "execute_result"
    }
   ],
   "source": [
    "l"
   ]
  },
  {
   "cell_type": "code",
   "execution_count": 53,
   "id": "64265373",
   "metadata": {},
   "outputs": [
    {
     "data": {
      "text/plain": [
       "45"
      ]
     },
     "execution_count": 53,
     "metadata": {},
     "output_type": "execute_result"
    }
   ],
   "source": [
    "l.pop(-1)"
   ]
  },
  {
   "cell_type": "code",
   "execution_count": 54,
   "id": "b762b904",
   "metadata": {},
   "outputs": [
    {
     "data": {
      "text/plain": [
       "[1,\n",
       " 'cloud',\n",
       " 345,\n",
       " 'ai',\n",
       " True,\n",
       " (3+6j),\n",
       " 34.98,\n",
       " 5,\n",
       " ['Saturday', 'Monday', 'Tuesday', 'Wednesday'],\n",
       " 'r',\n",
       " 'a',\n",
       " 'h',\n",
       " 'u',\n",
       " 'l',\n",
       " 20.5,\n",
       " 60,\n",
       " 20.5,\n",
       " 60,\n",
       " 20.5]"
      ]
     },
     "execution_count": 54,
     "metadata": {},
     "output_type": "execute_result"
    }
   ],
   "source": [
    "l"
   ]
  },
  {
   "cell_type": "code",
   "execution_count": 55,
   "id": "4095a111",
   "metadata": {},
   "outputs": [],
   "source": [
    "\n",
    "l.remove(20.5)   #Remove first occurrence of value."
   ]
  },
  {
   "cell_type": "code",
   "execution_count": 56,
   "id": "9e02e0a3",
   "metadata": {},
   "outputs": [
    {
     "data": {
      "text/plain": [
       "[1,\n",
       " 'cloud',\n",
       " 345,\n",
       " 'ai',\n",
       " True,\n",
       " (3+6j),\n",
       " 34.98,\n",
       " 5,\n",
       " ['Saturday', 'Monday', 'Tuesday', 'Wednesday'],\n",
       " 'r',\n",
       " 'a',\n",
       " 'h',\n",
       " 'u',\n",
       " 'l',\n",
       " 60,\n",
       " 20.5,\n",
       " 60,\n",
       " 20.5]"
      ]
     },
     "execution_count": 56,
     "metadata": {},
     "output_type": "execute_result"
    }
   ],
   "source": [
    "l"
   ]
  },
  {
   "cell_type": "code",
   "execution_count": 57,
   "id": "df371623",
   "metadata": {},
   "outputs": [],
   "source": [
    "l.reverse()"
   ]
  },
  {
   "cell_type": "code",
   "execution_count": 58,
   "id": "cf19dae6",
   "metadata": {},
   "outputs": [
    {
     "data": {
      "text/plain": [
       "[20.5,\n",
       " 60,\n",
       " 20.5,\n",
       " 60,\n",
       " 'l',\n",
       " 'u',\n",
       " 'h',\n",
       " 'a',\n",
       " 'r',\n",
       " ['Saturday', 'Monday', 'Tuesday', 'Wednesday'],\n",
       " 5,\n",
       " 34.98,\n",
       " (3+6j),\n",
       " True,\n",
       " 'ai',\n",
       " 345,\n",
       " 'cloud',\n",
       " 1]"
      ]
     },
     "execution_count": 58,
     "metadata": {},
     "output_type": "execute_result"
    }
   ],
   "source": [
    "l"
   ]
  },
  {
   "cell_type": "code",
   "execution_count": 59,
   "id": "82c28b33",
   "metadata": {},
   "outputs": [],
   "source": [
    "l2 = [45,23,90,0,3,4,5,7,8,9]"
   ]
  },
  {
   "cell_type": "code",
   "execution_count": 60,
   "id": "9ad3147f",
   "metadata": {},
   "outputs": [],
   "source": [
    "l2.sort()"
   ]
  },
  {
   "cell_type": "code",
   "execution_count": 61,
   "id": "639cbcea",
   "metadata": {},
   "outputs": [
    {
     "data": {
      "text/plain": [
       "[0, 3, 4, 5, 7, 8, 9, 23, 45, 90]"
      ]
     },
     "execution_count": 61,
     "metadata": {},
     "output_type": "execute_result"
    }
   ],
   "source": [
    "l2"
   ]
  },
  {
   "cell_type": "code",
   "execution_count": 62,
   "id": "24456c0f",
   "metadata": {},
   "outputs": [],
   "source": [
    "l2.sort(reverse=True)"
   ]
  },
  {
   "cell_type": "code",
   "execution_count": 63,
   "id": "d54d326f",
   "metadata": {},
   "outputs": [
    {
     "data": {
      "text/plain": [
       "[90, 45, 23, 9, 8, 7, 5, 4, 3, 0]"
      ]
     },
     "execution_count": 63,
     "metadata": {},
     "output_type": "execute_result"
    }
   ],
   "source": [
    "l2"
   ]
  },
  {
   "cell_type": "code",
   "execution_count": 64,
   "id": "16406d07",
   "metadata": {},
   "outputs": [
    {
     "ename": "TypeError",
     "evalue": "'<' not supported between instances of 'str' and 'int'",
     "output_type": "error",
     "traceback": [
      "\u001b[1;31m---------------------------------------------------------------------------\u001b[0m",
      "\u001b[1;31mTypeError\u001b[0m                                 Traceback (most recent call last)",
      "Cell \u001b[1;32mIn[64], line 2\u001b[0m\n\u001b[0;32m      1\u001b[0m l3 \u001b[38;5;241m=\u001b[39m [\u001b[38;5;241m34\u001b[39m, \u001b[38;5;124m'\u001b[39m\u001b[38;5;124mmachinelearning\u001b[39m\u001b[38;5;124m'\u001b[39m,\u001b[38;5;241m45\u001b[39m,\u001b[38;5;241m11\u001b[39m,\u001b[38;5;124m'\u001b[39m\u001b[38;5;124mNLP\u001b[39m\u001b[38;5;124m'\u001b[39m]\n\u001b[1;32m----> 2\u001b[0m l3\u001b[38;5;241m.\u001b[39msort()\n",
      "\u001b[1;31mTypeError\u001b[0m: '<' not supported between instances of 'str' and 'int'"
     ]
    }
   ],
   "source": [
    "l3 = [34, 'machinelearning',45,11,'NLP']\n",
    "l3.sort()"
   ]
  },
  {
   "cell_type": "code",
   "execution_count": 65,
   "id": "64623d51",
   "metadata": {},
   "outputs": [],
   "source": [
    "l4 = ['cloud','web','deeplearning','devops','google']"
   ]
  },
  {
   "cell_type": "code",
   "execution_count": 66,
   "id": "41481077",
   "metadata": {},
   "outputs": [],
   "source": [
    "l4.sort()"
   ]
  },
  {
   "cell_type": "code",
   "execution_count": 67,
   "id": "d12d5bf5",
   "metadata": {},
   "outputs": [
    {
     "data": {
      "text/plain": [
       "['cloud', 'deeplearning', 'devops', 'google', 'web']"
      ]
     },
     "execution_count": 67,
     "metadata": {},
     "output_type": "execute_result"
    }
   ],
   "source": [
    "l4"
   ]
  },
  {
   "cell_type": "code",
   "execution_count": 68,
   "id": "30bc2b1f",
   "metadata": {},
   "outputs": [
    {
     "data": {
      "text/plain": [
       "1"
      ]
     },
     "execution_count": 68,
     "metadata": {},
     "output_type": "execute_result"
    }
   ],
   "source": [
    "l4.count('web')"
   ]
  },
  {
   "cell_type": "code",
   "execution_count": 69,
   "id": "9ce99f4f",
   "metadata": {},
   "outputs": [
    {
     "data": {
      "text/plain": [
       "3"
      ]
     },
     "execution_count": 69,
     "metadata": {},
     "output_type": "execute_result"
    }
   ],
   "source": [
    "len(l4[4])"
   ]
  },
  {
   "cell_type": "code",
   "execution_count": 70,
   "id": "97233f9b",
   "metadata": {},
   "outputs": [],
   "source": [
    "s='nlp'"
   ]
  },
  {
   "cell_type": "code",
   "execution_count": 71,
   "id": "331d8cb0",
   "metadata": {},
   "outputs": [
    {
     "ename": "TypeError",
     "evalue": "'str' object does not support item assignment",
     "output_type": "error",
     "traceback": [
      "\u001b[1;31m---------------------------------------------------------------------------\u001b[0m",
      "\u001b[1;31mTypeError\u001b[0m                                 Traceback (most recent call last)",
      "Cell \u001b[1;32mIn[71], line 1\u001b[0m\n\u001b[1;32m----> 1\u001b[0m s[\u001b[38;5;241m0\u001b[39m]\u001b[38;5;241m=\u001b[39ma\n",
      "\u001b[1;31mTypeError\u001b[0m: 'str' object does not support item assignment"
     ]
    }
   ],
   "source": [
    "s[0]=a"
   ]
  },
  {
   "cell_type": "code",
   "execution_count": 74,
   "id": "db189a4f",
   "metadata": {},
   "outputs": [],
   "source": [
    "s1=s.replace('n','m')"
   ]
  },
  {
   "cell_type": "code",
   "execution_count": 75,
   "id": "12a5c965",
   "metadata": {},
   "outputs": [
    {
     "data": {
      "text/plain": [
       "'nlp'"
      ]
     },
     "execution_count": 75,
     "metadata": {},
     "output_type": "execute_result"
    }
   ],
   "source": [
    "s"
   ]
  },
  {
   "cell_type": "markdown",
   "id": "6994b125",
   "metadata": {},
   "source": [
    "# "
   ]
  },
  {
   "cell_type": "code",
   "execution_count": 76,
   "id": "05b86689",
   "metadata": {},
   "outputs": [
    {
     "data": {
      "text/plain": [
       "'mlp'"
      ]
     },
     "execution_count": 76,
     "metadata": {},
     "output_type": "execute_result"
    }
   ],
   "source": [
    "s1"
   ]
  },
  {
   "cell_type": "code",
   "execution_count": null,
   "id": "90109a4d",
   "metadata": {},
   "outputs": [],
   "source": []
  }
 ],
 "metadata": {
  "kernelspec": {
   "display_name": "Python 3 (ipykernel)",
   "language": "python",
   "name": "python3"
  },
  "language_info": {
   "codemirror_mode": {
    "name": "ipython",
    "version": 3
   },
   "file_extension": ".py",
   "mimetype": "text/x-python",
   "name": "python",
   "nbconvert_exporter": "python",
   "pygments_lexer": "ipython3",
   "version": "3.11.5"
  }
 },
 "nbformat": 4,
 "nbformat_minor": 5
}
